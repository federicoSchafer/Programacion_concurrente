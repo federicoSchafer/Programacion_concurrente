{
  "nbformat": 4,
  "nbformat_minor": 0,
  "metadata": {
    "colab": {
      "provenance": []
    },
    "kernelspec": {
      "name": "python3",
      "display_name": "Python 3"
    },
    "language_info": {
      "name": "python"
    }
  },
  "cells": [
    {
      "cell_type": "markdown",
      "source": [
        "# TP1 - Parte 2 - Hilos"
      ],
      "metadata": {
        "id": "U-51_NLBw9-1"
      }
    },
    {
      "cell_type": "markdown",
      "source": [
        "# **Python**\n",
        "Este programa genera una matriz de N x N y la multiplica por un\n",
        "escalar de manera secuencial (algoritmo sin hilos) y de manera concurrente (algoritmo con hilos) en Python."
      ],
      "metadata": {
        "id": "Wl8lRKCjzUfm"
      }
    },
    {
      "cell_type": "code",
      "execution_count": 83,
      "metadata": {
        "colab": {
          "base_uri": "https://localhost:8080/"
        },
        "id": "8z6jPvsMwrjL",
        "outputId": "dcd33e9b-403e-4e4d-8bc5-4d336d3c4d04"
      },
      "outputs": [
        {
          "output_type": "stream",
          "name": "stdout",
          "text": [
            "Overwriting hilos.py\n"
          ]
        }
      ],
      "source": [
        "%%writefile hilos.py\n",
        "import random\n",
        "import threading\n",
        "import time\n",
        "\n",
        "SIZE_MATRIX = (80, 80)\n",
        "ESCALE = 2\n",
        "HILOS = 4\n",
        "\n",
        "def generate_matrix(filas, columnas):\n",
        "    return [[random.randint(1, 9) for _ in range(columnas)] for _ in range(filas)]\n",
        "\n",
        "def multiply_matrix_por_escale_secuencial(matrix, escale):\n",
        "    resultado = [[0] * len(matrix[0]) for _ in range(len(matrix))]\n",
        "    for i in range(len(matrix)):\n",
        "        for j in range(len(matrix[i])):\n",
        "            resultado[i][j] = matrix[i][j] * escale\n",
        "    return resultado\n",
        "\n",
        "def multiply_matrix_por_escale(matrix, escale, inicio, fin, resultado):\n",
        "    for i in range(inicio, fin):\n",
        "        for j in range(len(matrix[i])):\n",
        "            resultado[i][j] = matrix[i][j] * escale\n",
        "\n",
        "def multiply_matrix_por_escale_con_hilos(matrix, escale, num_hilos):\n",
        "    resultado = [[0] * len(matrix[0]) for _ in range(len(matrix))]\n",
        "    hilos = []\n",
        "    paso = len(matrix) // num_hilos\n",
        "\n",
        "    for i in range(num_hilos):\n",
        "        inicio = i * paso\n",
        "        fin = (i + 1) * paso if i < num_hilos - 1 else len(matrix)\n",
        "        hilo = threading.Thread(target=multiply_matrix_por_escale, args=(matrix, escale, inicio, fin, resultado))\n",
        "        hilos.append(hilo)\n",
        "        hilo.start()\n",
        "\n",
        "    for hilo in hilos:\n",
        "        hilo.join()\n",
        "\n",
        "    return resultado\n",
        "\n",
        "\n",
        "def check_results(matrixRS, matrixRC):\n",
        "    equal = True\n",
        "    for i in range(len(matrixRS)):\n",
        "        for j in range(len(matrixRS[0])):\n",
        "            if matrixRS[i][j] != matrixRC[i][j]:\n",
        "                equal = False\n",
        "    return equal\n",
        "\n",
        "def main():\n",
        "    matrix = generate_matrix(*SIZE_MATRIX)\n",
        "\n",
        "    start_time = time.time()\n",
        "    matrixRS = multiply_matrix_por_escale_secuencial(matrix, ESCALE)\n",
        "    end_time = time.time()\n",
        "    elapsed_timeS = end_time - start_time\n",
        "\n",
        "    start_time = time.time()\n",
        "    matrixRC = multiply_matrix_por_escale_con_hilos(matrix, ESCALE, HILOS)\n",
        "    end_time = time.time()\n",
        "    elapsed_timeC = end_time - start_time\n",
        "\n",
        "    if check_results(matrixRS, matrixRC):\n",
        "        print(\"Las matrices son iguales.\")\n",
        "    else:\n",
        "        print(\"Las matrices son distintas.\")\n",
        "\n",
        "    print(f\"\\nmatrix resultante (tiempo de ejecución secuencial: {(elapsed_timeS*1000):.6f} milisegundos):\")\n",
        "    print(f\"\\nmatrix resultante (tiempo de ejecución concurrente: {(elapsed_timeC*1000):.6f} milisegundos):\")\n",
        "\n",
        "if __name__ == \"__main__\":\n",
        "    main()"
      ]
    },
    {
      "cell_type": "code",
      "source": [
        "!python hilos.py"
      ],
      "metadata": {
        "id": "kzOHYZCH0jvv",
        "colab": {
          "base_uri": "https://localhost:8080/"
        },
        "outputId": "60a40b79-0915-41a2-af1c-5eca2fa32dee"
      },
      "execution_count": 103,
      "outputs": [
        {
          "output_type": "stream",
          "name": "stdout",
          "text": [
            "Las matrices son iguales.\n",
            "\n",
            "matrix resultante (tiempo de ejecución secuencial: 0.821114 milisegundos):\n",
            "\n",
            "matrix resultante (tiempo de ejecución concurrente: 2.238274 milisegundos):\n"
          ]
        }
      ]
    }
  ]
}