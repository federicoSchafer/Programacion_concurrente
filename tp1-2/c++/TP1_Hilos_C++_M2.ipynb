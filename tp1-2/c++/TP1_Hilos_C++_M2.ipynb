{
  "nbformat": 4,
  "nbformat_minor": 0,
  "metadata": {
    "colab": {
      "provenance": []
    },
    "kernelspec": {
      "name": "python3",
      "display_name": "Python 3"
    },
    "language_info": {
      "name": "python"
    }
  },
  "cells": [
    {
      "cell_type": "markdown",
      "source": [
        "# TP1 - Parte 2 - Hilos"
      ],
      "metadata": {
        "id": "bgRsHCiy9oyZ"
      }
    },
    {
      "cell_type": "markdown",
      "source": [
        "# **C++**\n",
        "Este programa genera una matriz de N x N y la multiplica por un escalar de manera secuencial (algoritmo sin hilos) y de manera concurrente (algoritmo con hilos) en C++."
      ],
      "metadata": {
        "id": "Qt17WHVY9sXS"
      }
    },
    {
      "cell_type": "code",
      "execution_count": 1,
      "metadata": {
        "colab": {
          "base_uri": "https://localhost:8080/"
        },
        "id": "g_XtZMid9jB4",
        "outputId": "52bdb393-5d5d-449d-a752-d90fc9275e91"
      },
      "outputs": [
        {
          "output_type": "stream",
          "name": "stdout",
          "text": [
            "Writing hilos.cpp\n"
          ]
        }
      ],
      "source": [
        "%%writefile hilos.cpp\n",
        "#include <iostream>\n",
        "#include <vector>\n",
        "#include <thread>\n",
        "#include <chrono>\n",
        "//#include \"fork.h\"\n",
        "\n",
        "const int N = 80;\n",
        "const int threadCount = 4;\n",
        "const int constant = 20;\n",
        "const bool useThreads = true;\n",
        "std::vector<std::vector<int>> matrix(N, std::vector<int>(N));\n",
        "std::vector<std::vector<int>> matrixRS(N, std::vector<int>(N));\n",
        "std::vector<std::vector<int>> matrixRC(N, std::vector<int>(N));\n",
        "\n",
        "void updateMatrix()\n",
        "{\n",
        "    for (int i = 0; i < N; ++i)\n",
        "    {\n",
        "        for (int j = 0; j < N; ++j)\n",
        "        {\n",
        "            matrixRS[i][j] = matrix[i][j] * constant;\n",
        "        }\n",
        "    }\n",
        "}\n",
        "void udpateMatrixWithIndex(int initElement, int endElement)\n",
        "{\n",
        "    for (int i = initElement; i < endElement; ++i)\n",
        "    {\n",
        "        int row = i / N;\n",
        "        int column = i % N;\n",
        "        if (row < N && column < N)\n",
        "        {\n",
        "            matrixRC[row][column] = matrix[row][column] * constant;\n",
        "        }\n",
        "    }\n",
        "}\n",
        "void updateMatrixByThreads()\n",
        "{\n",
        "    int totalElements = N * N;\n",
        "    int elementsPerThread = (totalElements / threadCount) + totalElements % threadCount;\n",
        "\n",
        "    // run thread\n",
        "    std::vector<std::thread> threads;\n",
        "    int initElement = 0;\n",
        "    for (int i = 0; i < threadCount; ++i)\n",
        "    {\n",
        "        int endElement = initElement + elementsPerThread;\n",
        "        threads.push_back(std::thread(udpateMatrixWithIndex, initElement, endElement));\n",
        "        initElement = endElement;\n",
        "    }\n",
        "\n",
        "    // wait all threads\n",
        "    for (auto &thread : threads)\n",
        "    {\n",
        "        thread.join();\n",
        "    }\n",
        "}\n",
        "\n",
        "bool checkResults()\n",
        "{\n",
        "    bool equal = true;\n",
        "    for(int i=0;i<N;i++)\n",
        "    {\n",
        "        for(int j=0;j<N;j++)\n",
        "        {\n",
        "            if(matrixRS[i][j] != matrixRC[i][j])\n",
        "            {\n",
        "                equal = false;\n",
        "            }\n",
        "        }\n",
        "    }\n",
        "    return equal;\n",
        "}\n",
        "\n",
        "void printMatrix(std::vector<std::vector<int>> matrix)\n",
        "{\n",
        "    for (int i = 0; i < N; ++i)\n",
        "    {\n",
        "        for (int j = 0; j < N; ++j)\n",
        "        {\n",
        "            std::cout << matrix[i][j] << \" \";\n",
        "        }\n",
        "        std::cout << \"\\n\";\n",
        "    }\n",
        "}\n",
        "\n",
        "int main()\n",
        "{\n",
        "    // load matrix randomly\n",
        "    for (int i = 0; i < N; ++i)\n",
        "    {\n",
        "        for (int j = 0; j < N; ++j)\n",
        "        {\n",
        "            matrix[i][j] = rand() % 10;\n",
        "        }\n",
        "    }\n",
        "\n",
        "\n",
        "    auto start = std::chrono::high_resolution_clock::now();\n",
        "    updateMatrixByThreads();\n",
        "    auto end = std::chrono::high_resolution_clock::now();\n",
        "    std::chrono::duration<double> durationC = end - start;\n",
        "\n",
        "    start = std::chrono::high_resolution_clock::now();\n",
        "    updateMatrix();\n",
        "    end = std::chrono::high_resolution_clock::now();\n",
        "    std::chrono::duration<double> durationS = end - start;\n",
        "\n",
        "    std::cout << \"Matriz de \" << N << \" X \" << N << \"\\n\";\n",
        "    std::cout << \"Cantidad de hilos: \" << threadCount << \"\\n\";\n",
        "\n",
        "    if(checkResults())\n",
        "        std::cout << \"Las matrices RS y RC son iguales.\" << \"\\n\";\n",
        "    else\n",
        "        std::cout << \"Las matrices RS y RC son distintas.\" << \"\\n\";\n",
        "\n",
        "    //std::cout << \"initial matrix:\\n\";\n",
        "    //printMatrix(matrix);\n",
        "    //std::cout << \"updated matrix:\\n\";\n",
        "    //printMatrix(matrixRes);\n",
        "    std::cout << \"tiempo de ejecucion con calculo secuencial en milisegundos: \" << durationS.count()*1000 << \"\\n\";\n",
        "    std::cout << \"tiempo de ejecucion con calculo concurrente en milisegundos: \" << durationC.count()*1000 << \"\\n\";\n",
        "    return 0;\n",
        "}"
      ]
    },
    {
      "cell_type": "code",
      "source": [
        "!g++ -o hilos hilos.cpp;"
      ],
      "metadata": {
        "id": "LMSmXd61-K_S"
      },
      "execution_count": null,
      "outputs": []
    },
    {
      "cell_type": "code",
      "source": [
        "!./hilos"
      ],
      "metadata": {
        "colab": {
          "base_uri": "https://localhost:8080/"
        },
        "id": "A4cFG5vh-eq0",
        "outputId": "b532da3c-2f24-4a65-97a3-6bdd76c54290"
      },
      "execution_count": null,
      "outputs": [
        {
          "output_type": "stream",
          "name": "stdout",
          "text": [
            "Matriz de 80 X 80\n",
            "Cantidad de hilos: 4\n",
            "Las matrices RS y RC son iguales.\n",
            "tiempo de ejecucion con calculo secuencial en milisegundos: 0.137764\n",
            "tiempo de ejecucion con calculo concurrente en milisegundos: 2.32664\n"
          ]
        }
      ]
    }
  ]
}