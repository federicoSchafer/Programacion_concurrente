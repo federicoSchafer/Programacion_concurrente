{
  "nbformat": 4,
  "nbformat_minor": 0,
  "metadata": {
    "colab": {
      "provenance": []
    },
    "kernelspec": {
      "name": "python3",
      "display_name": "Python 3"
    },
    "language_info": {
      "name": "python"
    }
  },
  "cells": [
    {
      "cell_type": "markdown",
      "source": [
        "# TP1 - Parte 2 - Hilos"
      ],
      "metadata": {
        "id": "U-51_NLBw9-1"
      }
    },
    {
      "cell_type": "markdown",
      "source": [
        "# **Java**\n",
        "Este programa genera una matriz de N x N y la multiplica por un\n",
        "escalar de manera secuencial (algoritmo sin hilos) y de manera concurrente (algoritmo con hilos) en Java."
      ],
      "metadata": {
        "id": "Wl8lRKCjzUfm"
      }
    },
    {
      "cell_type": "code",
      "execution_count": null,
      "metadata": {
        "colab": {
          "base_uri": "https://localhost:8080/"
        },
        "id": "8z6jPvsMwrjL",
        "outputId": "304696f8-6d7f-4355-aa3c-dad5a57a329b"
      },
      "outputs": [
        {
          "output_type": "stream",
          "name": "stdout",
          "text": [
            "Writing Main.java\n"
          ]
        }
      ],
      "source": [
        "%%writefile Main.java\n",
        "public class Main\n",
        "{\n",
        "    /* Cotas */\n",
        "    private static final int cotaSuperior = 9;\n",
        "    private static final int cotaInferior = 0;\n",
        "    private static int tamanioMatriz = 80;\n",
        "    /* Recursos comunes a todos */\n",
        "    private static final int escalar = 1;\n",
        "    /* Recursos para Hilos */\n",
        "    private static final int numeroHilos=4; ////Puede ser 1, 2 o 4\n",
        "    /* Recursos para comparar */\n",
        "    private static int[][] rs = new int[tamanioMatriz][tamanioMatriz];\n",
        "    private static int[][] rc = new int[tamanioMatriz][tamanioMatriz];\n",
        "    /* Rondas de pruebas */\n",
        "    private static int tamanioMuestraTesting = 1;\n",
        "    private static double[] tiempoEmpleadoSecuencial = new double[tamanioMuestraTesting];\n",
        "    private static double[] tiempoEmpleadoConcurrente = new double[tamanioMuestraTesting];\n",
        "\n",
        "\n",
        "    public static void main(String[] args) throws Exception\n",
        "    {\n",
        "        inicializarMatrices();\n",
        "        inicializarSecuencial();\n",
        "        inicializarCalculoConcurrente();\n",
        "        verificarIgualdad();\n",
        "        calcularPromedioDeEjecucion();\n",
        "    }\n",
        "\n",
        "    private static void inicializarMatrices()\n",
        "    {\n",
        "        for(int i=0;i<tamanioMatriz;i++)\n",
        "        {\n",
        "            for(int j=0;j<tamanioMatriz;j++)\n",
        "            {\n",
        "               int numero = obtenerNumeroRandom();\n",
        "               rs[i][j] = numero;\n",
        "               rc[i][j] = numero;\n",
        "            }\n",
        "        }\n",
        "    }\n",
        "\n",
        "    private static int obtenerNumeroRandom()\n",
        "    {\n",
        "        int valorRandom = (int) (Math.floor(Math.random()*(cotaSuperior-cotaInferior)+cotaInferior));\n",
        "        return valorRandom;\n",
        "    }\n",
        "\n",
        "    private static void inicializarCalculoConcurrente()\n",
        "    {\n",
        "        for(int pos = 0 ; pos < tamanioMuestraTesting ; pos++)\n",
        "        {\n",
        "            Concurrente cConcurrente = new Concurrente(numeroHilos, escalar, rc);\n",
        "            cConcurrente.arranque();\n",
        "            tiempoEmpleadoConcurrente[pos] = cConcurrente.obtenerUltimaMedicion();\n",
        "        }\n",
        "    }\n",
        "\n",
        "    private static void verificarIgualdad()\n",
        "    {\n",
        "        boolean sonIguales = true;\n",
        "        for(int i=0;i<tamanioMatriz;i++)\n",
        "        {\n",
        "            for(int j=0;j<tamanioMatriz;j++)\n",
        "            {\n",
        "                if(rs[i][j] != rc[i][j])\n",
        "                {\n",
        "                    sonIguales = false;\n",
        "                }\n",
        "            }\n",
        "        }\n",
        "\n",
        "        if(sonIguales)\n",
        "        {\n",
        "            System.out.println(\"Las matrices son iguales\");\n",
        "        }\n",
        "        else\n",
        "        {\n",
        "            System.out.println(\"Las matrices no son iguales\");\n",
        "        }\n",
        "    }\n",
        "\n",
        "    private static void inicializarSecuencial()\n",
        "    {\n",
        "        for(int pos = 0 ; pos < tamanioMuestraTesting ; pos++)\n",
        "        {\n",
        "            Secuencial cSecuencial = new Secuencial(escalar, rs);\n",
        "            rs=cSecuencial.calculoSecuencial();\n",
        "            tiempoEmpleadoSecuencial[pos] = cSecuencial.obtenerUltimaMedicion();\n",
        "        }\n",
        "    }\n",
        "\n",
        "    private static void calcularPromedioDeEjecucion()\n",
        "    {\n",
        "        double sumaSecuencial=0,sumaConcurrente=0;\n",
        "        double promedioSecuencial,promedioConcurrente;\n",
        "        for(int i=0; i<tamanioMuestraTesting; i++)\n",
        "        {\n",
        "            sumaSecuencial += tiempoEmpleadoSecuencial[i];\n",
        "            sumaConcurrente += tiempoEmpleadoConcurrente[i];\n",
        "        }\n",
        "        promedioSecuencial = sumaSecuencial / tamanioMuestraTesting;\n",
        "        promedioConcurrente = sumaConcurrente / tamanioMuestraTesting;\n",
        "        System.out.println(\"El tiempo promedio de ejecucion para un calculo secuencial es de \"+promedioSecuencial+\" ms\");\n",
        "        System.out.println(\"El tiempo promedio de ejecucion para un calculo concurrente es de \"+promedioConcurrente+\" ms\");\n",
        "    }\n",
        "}"
      ]
    },
    {
      "cell_type": "code",
      "source": [
        "%%writefile Secuencial.java\n",
        "import java.time.Duration;\n",
        "import java.time.Instant;\n",
        "\n",
        "public class Secuencial\n",
        "{\n",
        "    private int[][] rs;\n",
        "    private int escalar;\n",
        "    private long ultimaMedicion;\n",
        "\n",
        "    public Secuencial(int valorEscalar, int[][] matrizOriginal)\n",
        "    {\n",
        "        escalar=valorEscalar;\n",
        "        rs = matrizOriginal;\n",
        "    }\n",
        "\n",
        "    public int[][] calculoSecuencial()\n",
        "    {\n",
        "        Instant inicio = Instant.now();\n",
        "        for(int i=0;i<rs.length;i++)\n",
        "        {\n",
        "            for(int j=0;j<rs.length;j++)\n",
        "            {\n",
        "                rs[i][j] = rs[i][j]*escalar;\n",
        "            }\n",
        "        }\n",
        "        Instant fin = Instant.now();\n",
        "        long tiempoEmpleado = Duration.between(inicio, fin).toMillis();\n",
        "        ultimaMedicion = tiempoEmpleado;\n",
        "        return rs;\n",
        "    }\n",
        "\n",
        "    public double obtenerUltimaMedicion()\n",
        "    {\n",
        "        return (double) ultimaMedicion;\n",
        "    }\n",
        "\n",
        "\n",
        "}"
      ],
      "metadata": {
        "colab": {
          "base_uri": "https://localhost:8080/"
        },
        "id": "jZRRWvuHysw1",
        "outputId": "dd476c4a-1291-4009-ebd6-8b4a210e5b17"
      },
      "execution_count": null,
      "outputs": [
        {
          "output_type": "stream",
          "name": "stdout",
          "text": [
            "Writing Secuencial.java\n"
          ]
        }
      ]
    },
    {
      "cell_type": "code",
      "source": [
        "%%writefile Concurrente.java\n",
        "import java.time.Duration;\n",
        "import java.time.Instant;\n",
        "\n",
        "public class Concurrente\n",
        "{\n",
        "    private int numeroHilos;\n",
        "    private int escalar;\n",
        "    private int filasPorHilo;\n",
        "    private int filasAdicionales;\n",
        "    private int[][] rc;\n",
        "    private long ultimaMedicion;\n",
        "\n",
        "    public Concurrente(int numeroHilos, int escalar,int[][] rc)\n",
        "    {\n",
        "        this.numeroHilos=numeroHilos;\n",
        "        this.escalar=escalar;\n",
        "        this.rc=rc;\n",
        "\n",
        "        filasPorHilo = this.rc.length / this.numeroHilos;\n",
        "        filasAdicionales = this.rc.length % this.numeroHilos;\n",
        "    }\n",
        "\n",
        "    public void arranque()\n",
        "    {\n",
        "        int filaInicial = 0,filaFinal;\n",
        "        HiloMultiplicadorDeMatriz[] threads = new HiloMultiplicadorDeMatriz[numeroHilos];\n",
        "        Instant inicio = Instant.now();\n",
        "        for (int i = 0; i < numeroHilos; i++)\n",
        "        {\n",
        "            filaFinal = filaInicial + filasPorHilo + (i < filasAdicionales ? 1 : 0);\n",
        "            threads[i] = new HiloMultiplicadorDeMatriz(filaInicial, filaFinal);\n",
        "            threads[i].start();\n",
        "            filaInicial = filaFinal;\n",
        "        }\n",
        "\n",
        "        for (int i = 0; i < numeroHilos; i++)\n",
        "        {\n",
        "            try\n",
        "            {\n",
        "                threads[i].join();\n",
        "            }\n",
        "            catch (InterruptedException e)\n",
        "            {\n",
        "                e.printStackTrace();\n",
        "            }\n",
        "        }\n",
        "        Instant fin = Instant.now();\n",
        "        long tiempoEmpleado = Duration.between(inicio, fin).toMillis();\n",
        "        ultimaMedicion = tiempoEmpleado;\n",
        "\n",
        "    }\n",
        "\n",
        "    public double obtenerUltimaMedicion()\n",
        "    {\n",
        "        return (double) ultimaMedicion;\n",
        "    }\n",
        "\n",
        "    private class HiloMultiplicadorDeMatriz extends Thread\n",
        "    {\n",
        "        private final int startRow;\n",
        "        private final int endRow;\n",
        "\n",
        "        public HiloMultiplicadorDeMatriz(int startRow, int endRow)\n",
        "        {\n",
        "            this.startRow = startRow;\n",
        "            this.endRow = endRow;\n",
        "        }\n",
        "\n",
        "        @Override\n",
        "        public void run()\n",
        "        {\n",
        "            for (int i = startRow; i < endRow; i++)\n",
        "            {\n",
        "                for (int j = 0; j < rc.length; j++)\n",
        "                {\n",
        "                    rc[i][j] *= escalar;\n",
        "                }\n",
        "            }\n",
        "        }\n",
        "    }\n",
        "\n",
        "}"
      ],
      "metadata": {
        "colab": {
          "base_uri": "https://localhost:8080/"
        },
        "id": "vi3P2ad2y5VS",
        "outputId": "e6fb6905-6872-48dd-fc98-54d04b9d125a"
      },
      "execution_count": null,
      "outputs": [
        {
          "output_type": "stream",
          "name": "stdout",
          "text": [
            "Writing Concurrente.java\n"
          ]
        }
      ]
    },
    {
      "cell_type": "code",
      "source": [
        "!javac Main.java Concurrente.java Secuencial.java"
      ],
      "metadata": {
        "id": "kzOHYZCH0jvv"
      },
      "execution_count": null,
      "outputs": []
    },
    {
      "cell_type": "code",
      "source": [
        "!java Main"
      ],
      "metadata": {
        "colab": {
          "base_uri": "https://localhost:8080/"
        },
        "id": "As9AqXHw1MFc",
        "outputId": "e9d27aa4-6140-4650-cb77-0e0c01d5e985"
      },
      "execution_count": null,
      "outputs": [
        {
          "output_type": "stream",
          "name": "stdout",
          "text": [
            "Las matrices son iguales\n",
            "El tiempo promedio de ejecucion para un calculo secuencial es de 0.0 ms\n",
            "El tiempo promedio de ejecucion para un calculo concurrente es de 1.0 ms\n"
          ]
        }
      ]
    }
  ]
}