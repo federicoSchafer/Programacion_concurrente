{
  "nbformat": 4,
  "nbformat_minor": 0,
  "metadata": {
    "colab": {
      "provenance": []
    },
    "kernelspec": {
      "name": "python3",
      "display_name": "Python 3"
    },
    "language_info": {
      "name": "python"
    }
  },
  "cells": [
    {
      "cell_type": "markdown",
      "source": [
        "# TP1 - Parte 3 - Comunicación y Concurrencia"
      ],
      "metadata": {
        "id": "U-51_NLBw9-1"
      }
    },
    {
      "cell_type": "markdown",
      "source": [
        "# **Java**\n",
        "Este ejercicio resuelve el siguiente problema:\n",
        "\n",
        "*Problema del Zorro, el Pollo y el Maíz*  \n",
        "Un granjero debe transportar un zorro, un pollo y una bolsa de maíz al otro lado de un río. El granjero tiene un bote pequeño y solo puede transportar un elemento a la vez. Sin embargo, si el zorro y el pollo se quedan solos, el zorro se come al pollo, de igual manera si el pollo queda solo con el maíz, se lo comerá.\n",
        "\n",
        "Utilizando concurrencia se simulan las situaciones posibles de dicho\n",
        "problema y su desenlace en base una entrada provista por el usuario.\n",
        "\n",
        "## **Ejercicio sin terminar**"
      ],
      "metadata": {
        "id": "Wl8lRKCjzUfm"
      }
    },
    {
      "cell_type": "code",
      "source": [
        "%%writefile CruceRio.java\n",
        "public class CruceRio\n",
        "{\n",
        "    public static void main(String[] args)\n",
        "    {\n",
        "        Rio rio = new Rio();\n",
        "        Granjero granjero = new Granjero(rio);\n",
        "        Zorro zorro = new Zorro(rio);\n",
        "        Pollo pollo = new Pollo(rio);\n",
        "        Maiz maiz = new Maiz(rio);\n",
        "\n",
        "        Thread hiloGranjero = new Thread(granjero::cruzarRio);\n",
        "        Thread hiloZorro = new Thread(zorro::cruzarRio);\n",
        "        Thread hiloPollo = new Thread(pollo::cruzarRio);\n",
        "        Thread hiloMaiz = new Thread(maiz::cruzarRio);\n",
        "\n",
        "        hiloGranjero.start();\n",
        "        hiloZorro.start();\n",
        "        hiloPollo.start();\n",
        "        hiloMaiz.start();\n",
        "    }\n",
        "}"
      ],
      "metadata": {
        "colab": {
          "base_uri": "https://localhost:8080/"
        },
        "id": "ohoWeEp7Jt2U",
        "outputId": "714adaab-dc27-42d2-9136-406a1c42a488"
      },
      "execution_count": 7,
      "outputs": [
        {
          "output_type": "stream",
          "name": "stdout",
          "text": [
            "Writing CruceRio.java\n"
          ]
        }
      ]
    },
    {
      "cell_type": "code",
      "source": [
        "%%writefile Rio.java\n",
        "import java.util.concurrent.Semaphore;\n",
        "public class Rio\n",
        "{\n",
        "\n",
        "    private Semaphore semaforo = new Semaphore(1);\n",
        "\n",
        "    public void cruzar(Persona oAnimal) throws InterruptedException\n",
        "    {\n",
        "        semaforo.acquire();\n",
        "        oAnimal.cruzarRio();\n",
        "        semaforo.release();\n",
        "    }\n",
        "\n",
        "    public void esperar() throws InterruptedException\n",
        "    {\n",
        "        semaforo.acquire();\n",
        "    }\n",
        "\n",
        "    public void liberar()\n",
        "    {\n",
        "        semaforo.release();\n",
        "    }\n",
        "\n",
        "}"
      ],
      "metadata": {
        "colab": {
          "base_uri": "https://localhost:8080/"
        },
        "id": "tHsvvg28kyBb",
        "outputId": "cdb15d02-fe77-406f-bce2-ae399990e180"
      },
      "execution_count": 6,
      "outputs": [
        {
          "output_type": "stream",
          "name": "stdout",
          "text": [
            "Writing Rio.java\n"
          ]
        }
      ]
    },
    {
      "cell_type": "code",
      "source": [
        "%%writefile Granjero.java\n",
        "public class Granjero extends Persona\n",
        "{\n",
        "\n",
        "    public Granjero(Rio rio)\n",
        "    {\n",
        "        super(rio);\n",
        "    }\n",
        "\n",
        "    @Override\n",
        "    public void cruzarRio()\n",
        "    {\n",
        "        try\n",
        "        {\n",
        "            rio.esperar();\n",
        "            System.out.println(\"El granjero cruza el río con el pollo.\");\n",
        "            Thread.sleep(1000);\n",
        "            rio.liberar();\n",
        "\n",
        "            rio.esperar();\n",
        "            System.out.println(\"El granjero cruza el río solo.\");\n",
        "            Thread.sleep(1000);\n",
        "            rio.liberar();\n",
        "\n",
        "            rio.esperar();\n",
        "            System.out.println(\"El granjero cruza el río con el maíz.\");\n",
        "            Thread.sleep(1000);\n",
        "            rio.liberar();\n",
        "        }\n",
        "        catch (InterruptedException e)\n",
        "        {\n",
        "            System.out.println(\"Ocurrió una interrupción durante el cruce del granjero.\");\n",
        "        }\n",
        "    }\n",
        "\n",
        "}"
      ],
      "metadata": {
        "colab": {
          "base_uri": "https://localhost:8080/"
        },
        "id": "5Doc5rnHk46N",
        "outputId": "5943fa28-dab5-4cd0-b0a5-bb0c10305025"
      },
      "execution_count": 5,
      "outputs": [
        {
          "output_type": "stream",
          "name": "stdout",
          "text": [
            "Writing Granjero.java\n"
          ]
        }
      ]
    },
    {
      "cell_type": "code",
      "source": [
        "%%writefile Maiz.java\n",
        "public class Maiz extends Persona\n",
        "{\n",
        "    public Maiz(Rio rio)\n",
        "    {\n",
        "        super(rio);\n",
        "    }\n",
        "\n",
        "    @Override\n",
        "    public void cruzarRio()\n",
        "    {\n",
        "        try\n",
        "        {\n",
        "            rio.esperar();\n",
        "            System.out.println(\"El granjero cruza el río con el maíz.\");\n",
        "            Thread.sleep(1000);\n",
        "            rio.liberar();\n",
        "        }\n",
        "        catch (InterruptedException e)\n",
        "        {\n",
        "            // No se hace nada si se interrumpe al maíz\n",
        "        }\n",
        "    }\n",
        "}"
      ],
      "metadata": {
        "colab": {
          "base_uri": "https://localhost:8080/"
        },
        "id": "s4rh47qUk5MP",
        "outputId": "6aae9c60-3bfe-4e11-c7f4-2a8be7412a97"
      },
      "execution_count": 4,
      "outputs": [
        {
          "output_type": "stream",
          "name": "stdout",
          "text": [
            "Writing Maiz.java\n"
          ]
        }
      ]
    },
    {
      "cell_type": "code",
      "source": [
        "%%writefile Pollo.java\n",
        "public class Pollo extends Persona\n",
        "{\n",
        "    public Pollo(Rio rio)\n",
        "    {\n",
        "        super(rio);\n",
        "    }\n",
        "\n",
        "    @Override\n",
        "    public void cruzarRio()\n",
        "    {\n",
        "        try\n",
        "        {\n",
        "            rio.esperar();\n",
        "            System.out.println(\"El pollo cruza el río con el granjero.\");\n",
        "            Thread.sleep(1000);\n",
        "            rio.liberar();\n",
        "        }\n",
        "        catch (InterruptedException e)\n",
        "        {\n",
        "            System.out.println(\"El granjero regresó solo por el pollo.\");\n",
        "            try\n",
        "            {\n",
        "                rio.esperar();\n",
        "            }\n",
        "            catch (InterruptedException e1)\n",
        "            {\n",
        "                e1.printStackTrace();\n",
        "            }\n",
        "            System.out.println(\"El pollo cruza el río solo.\");\n",
        "            try\n",
        "            {\n",
        "                Thread.sleep(1000);\n",
        "            }\n",
        "            catch (InterruptedException e1)\n",
        "            {\n",
        "                e1.printStackTrace();\n",
        "            }\n",
        "            rio.liberar();\n",
        "        }\n",
        "    }\n",
        "}"
      ],
      "metadata": {
        "colab": {
          "base_uri": "https://localhost:8080/"
        },
        "id": "4XtGBx9Lk5dN",
        "outputId": "ab9b6d7c-5c05-48ff-833e-3f54ca6a99d3"
      },
      "execution_count": 3,
      "outputs": [
        {
          "output_type": "stream",
          "name": "stdout",
          "text": [
            "Writing Pollo.java\n"
          ]
        }
      ]
    },
    {
      "cell_type": "code",
      "source": [
        "%%writefile Zorro.java\n",
        "public class Zorro extends Persona\n",
        "{\n",
        "    public Zorro(Rio rio)\n",
        "    {\n",
        "        super(rio);\n",
        "    }\n",
        "\n",
        "    @Override\n",
        "    public void cruzarRio()\n",
        "    {\n",
        "        try\n",
        "        {\n",
        "            rio.esperar();\n",
        "            System.out.println(\"El zorro intenta cruzar el río, pero el granjero lo detiene.\");\n",
        "            rio.liberar();\n",
        "        }\n",
        "        catch (InterruptedException e)\n",
        "        {\n",
        "            // No se hace nada si se interrumpe al zorro\n",
        "        }\n",
        "    }\n",
        "}"
      ],
      "metadata": {
        "colab": {
          "base_uri": "https://localhost:8080/"
        },
        "id": "TGWELEedk5uU",
        "outputId": "37fcd8ec-9148-4d1f-fce9-cda82a8cbba2"
      },
      "execution_count": 2,
      "outputs": [
        {
          "output_type": "stream",
          "name": "stdout",
          "text": [
            "Writing Zorro.java\n"
          ]
        }
      ]
    },
    {
      "cell_type": "code",
      "source": [
        "%%writefile Persona.java\n",
        "public abstract class Persona\n",
        "{\n",
        "    protected Rio rio;\n",
        "\n",
        "    public Persona(Rio rio)\n",
        "    {\n",
        "        this.rio = rio;\n",
        "    }\n",
        "\n",
        "    public abstract void cruzarRio();\n",
        "}"
      ],
      "metadata": {
        "id": "H14GqwbWk6DM"
      },
      "execution_count": null,
      "outputs": []
    },
    {
      "cell_type": "code",
      "source": [
        "!javac Persona.java Granjero.java Rio.java CruceRio.java Pollo.java Maiz.java Zorro.java"
      ],
      "metadata": {
        "id": "0k-k-86nLOnt"
      },
      "execution_count": 8,
      "outputs": []
    },
    {
      "cell_type": "code",
      "source": [
        "!java CruceRio"
      ],
      "metadata": {
        "id": "4l9DNJFxUm5M"
      },
      "execution_count": null,
      "outputs": []
    },
    {
      "cell_type": "markdown",
      "source": [
        "# **Conclusión**\n",
        "\n"
      ],
      "metadata": {
        "id": "rFZUO5pxL-WU"
      }
    },
    {
      "cell_type": "markdown",
      "source": [
        "No llegamos a terminar este ejercicio, lo completaremos para la reentrega"
      ],
      "metadata": {
        "id": "f56TjCtHS3e3"
      }
    }
  ]
}