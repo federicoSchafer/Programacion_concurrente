{
  "nbformat": 4,
  "nbformat_minor": 0,
  "metadata": {
    "colab": {
      "provenance": []
    },
    "kernelspec": {
      "name": "python3",
      "display_name": "Python 3"
    },
    "language_info": {
      "name": "python"
    }
  },
  "cells": [
    {
      "cell_type": "markdown",
      "source": [
        "# TP1 - Parte 3 - Comunicación y Concurrencia"
      ],
      "metadata": {
        "id": "U-51_NLBw9-1"
      }
    },
    {
      "cell_type": "markdown",
      "source": [
        "# **C++**\n",
        "Este programa lee un archivo de texto y genera la siguiente información:  \n",
        "• Cantidad de líneas efectivas (no vacías)  \n",
        "• Cantidad de palabras  \n",
        "• Cantidad de caracteres  \n",
        "• Cantidad de espacios  \n",
        "• Palabra con mayor ocurrencia y cantidad de veces que aparece\n",
        "\n",
        "Para esto, el programa crea un hilo por cada línea no vacía y es tarea de los hilos generar la información requerida, cada hilo recolecta la información de su línea y la almacena en un área común entre todos los hilos.\n",
        "\n",
        "Por último, el hilo principal (main) informa por pantalla la información recopilada.\n",
        "  "
      ],
      "metadata": {
        "id": "Wl8lRKCjzUfm"
      }
    },
    {
      "cell_type": "code",
      "source": [
        "%%writefile prueba.txt\n",
        "linea, 1 prueba\n",
        "\n",
        "linea 3\n",
        "linea, 4\n",
        "linea5\n",
        "holaa\n",
        "Hola\n",
        "\n",
        "hola hola hola"
      ],
      "metadata": {
        "colab": {
          "base_uri": "https://localhost:8080/"
        },
        "id": "iBJulhKUKlXG",
        "outputId": "c3227ecb-4238-4895-c448-c3aca73b6c77"
      },
      "execution_count": 2,
      "outputs": [
        {
          "output_type": "stream",
          "name": "stdout",
          "text": [
            "Writing prueba.txt\n"
          ]
        }
      ]
    },
    {
      "cell_type": "code",
      "source": [
        "%%writefile synchronism.cpp\n",
        "#include <iostream>\n",
        "#include <vector>\n",
        "#include <thread>\n",
        "#include <fstream>\n",
        "#include <sstream>\n",
        "#include <string>\n",
        "#include <map>\n",
        "#include <mutex>\n",
        "#include <atomic>\n",
        "#include <cctype>\n",
        "#include <climits>\n",
        "\n",
        "\n",
        "std::map<std::string, int> mapaPalabras;\n",
        "std::mutex mutexMapa;\n",
        "std::atomic<int> cantCaracteres(0), cantEspacios(0), cantLineasEfect(0), cantPalabras(0);\n",
        "std::string palabraMasOcurrencia;\n",
        "int cantOcurrenciasMax = 0;\n",
        "//Uso atomic porque como son int, es mucho más eficiente que otra forma de sincronizar que requieren más complejidad de implementación\n",
        "\n",
        "std::vector<std::string> separarCadena(std::string linea, char separador)\n",
        "{\n",
        "    std::vector<std::string>palabras;\n",
        "    std::istringstream stream(linea);\n",
        "    std::string palabra;\n",
        "    while(std::getline(stream,palabra, separador))\n",
        "    {\n",
        "        palabras.push_back(palabra);\n",
        "    }\n",
        "    return palabras;\n",
        "}\n",
        "\n",
        "bool esSimbolo(char caract)\n",
        "{\n",
        "    return !std::isalnum(caract);\n",
        "}\n",
        "\n",
        "\n",
        "void actualizoMapaPalabras(std::string palabra)\n",
        "{\n",
        "    for (char& cacarcter : palabra) {\n",
        "        cacarcter = std::tolower(cacarcter);\n",
        "    }\n",
        "    std::lock_guard<std::mutex> lock(mutexMapa);//se libera cuando salgo del alcance/funcion\n",
        "    auto valor = mapaPalabras.find(palabra);\n",
        "    if (valor != mapaPalabras.end()) {\n",
        "        valor->second++;\n",
        "    } else {\n",
        "        mapaPalabras[palabra] = 1;\n",
        "    }\n",
        "}\n",
        "\n",
        "void manejoLinea(std::string linea)\n",
        "{\n",
        "    std::vector<std::string>palabras = separarCadena(linea, ' ');\n",
        "    int cantEspaciosLinea = palabras.size() - 1;\n",
        "    int cantCaractPalabra;\n",
        "    cantEspacios.fetch_add(cantEspaciosLinea); //CANTIDAD DE ESPACIOS\n",
        "    for(auto& palabra:palabras)\n",
        "    {\n",
        "        while(esSimbolo(palabra.back()))\n",
        "        {\n",
        "            palabra.pop_back();\n",
        "        }\n",
        "        cantCaractPalabra = palabra.size();\n",
        "        cantCaracteres.fetch_add(cantCaractPalabra);\n",
        "        actualizoMapaPalabras(palabra);\n",
        "\n",
        "    }\n",
        "\n",
        "}\n",
        "\n",
        "void obtenerMayorPalabra()\n",
        "{\n",
        "    cantPalabras.fetch_add(mapaPalabras.size()); //CANTIDAD DE PALABRAS\n",
        "    int maxOcurrencias = INT_MIN;\n",
        "    std::string palabraMax;\n",
        "    for(const auto& palabra : mapaPalabras)\n",
        "    {\n",
        "        if(palabra.second > maxOcurrencias){\n",
        "            maxOcurrencias = palabra.second;\n",
        "            palabraMax = palabra.first;\n",
        "        }\n",
        "    }\n",
        "\n",
        "    palabraMasOcurrencia = palabraMax; //PALABRA CON MAS OCURRENCIAS\n",
        "    cantOcurrenciasMax = maxOcurrencias; //CANTIDAD DE OCURRENCIAS\n",
        "\n",
        "}\n",
        "\n",
        "int main(int argc, char* argv[])\n",
        "{\n",
        "    if (argc != 2)\n",
        "    {\n",
        "        std::cerr << \"Parámetros ingresados inválidos\\n\";\n",
        "        return 1;\n",
        "    }\n",
        "\n",
        "    std::ifstream archivo(argv[1]);\n",
        "\n",
        "    if (!archivo.is_open())\n",
        "    {\n",
        "        std::cerr << \"Error al abrir el archivo.\\n\";\n",
        "        return 1;\n",
        "    }\n",
        "\n",
        "    std::vector<std::thread> hilos;\n",
        "    std::string linea;\n",
        "    while (std::getline(archivo, linea))\n",
        "    {\n",
        "       if(!linea.empty()){\n",
        "        hilos.push_back(std::thread(manejoLinea, linea));\n",
        "        cantLineasEfect++; //CANTIDAD DE LINEAS EFECTIVAS\n",
        "       }\n",
        "    }\n",
        "    archivo.close();\n",
        "\n",
        "    for(auto& hilo : hilos)\n",
        "    {\n",
        "        hilo.join();\n",
        "    }\n",
        "\n",
        "    obtenerMayorPalabra();\n",
        "\n",
        "    std::cout << \"Cantidad de lineas efectivas en el archivo: \" << cantLineasEfect << std::endl;\n",
        "    std::cout << \"Cantidad de palabras en el archivo: \" << cantPalabras << std::endl;\n",
        "    std::cout << \"Cantidad de caracteres en el archivo: \" << cantCaracteres << std::endl;\n",
        "    std::cout << \"Cantidad de espacios en el archivo: \" << cantEspacios << std::endl;\n",
        "    std::cout << \"La palabra que más se repite en el archivo es: \" << palabraMasOcurrencia << \" con una cantidad de: \" << cantOcurrenciasMax << \" veces\" << std::endl;\n",
        "\n",
        "    return 0;\n",
        "}"
      ],
      "metadata": {
        "colab": {
          "base_uri": "https://localhost:8080/"
        },
        "id": "ohoWeEp7Jt2U",
        "outputId": "90f64b2c-8aa3-426f-9aaf-df122eb04de0"
      },
      "execution_count": 4,
      "outputs": [
        {
          "output_type": "stream",
          "name": "stdout",
          "text": [
            "Overwriting synchronism.cpp\n"
          ]
        }
      ]
    },
    {
      "cell_type": "code",
      "source": [
        "!g++ -o synchronism synchronism.cpp;"
      ],
      "metadata": {
        "id": "0k-k-86nLOnt"
      },
      "execution_count": 5,
      "outputs": []
    },
    {
      "cell_type": "code",
      "source": [
        "!./synchronism prueba.txt"
      ],
      "metadata": {
        "colab": {
          "base_uri": "https://localhost:8080/"
        },
        "id": "4l9DNJFxUm5M",
        "outputId": "a2ddf663-fd56-4ea6-eae3-064d0d52ce65"
      },
      "execution_count": 6,
      "outputs": [
        {
          "output_type": "stream",
          "name": "stdout",
          "text": [
            "Cantidad de lineas efectivas en el archivo: 7\n",
            "Cantidad de palabras en el archivo: 8\n",
            "Cantidad de caracteres en el archivo: 51\n",
            "Cantidad de espacios en el archivo: 6\n",
            "La palabra que más se repite en el archivo es: hola con una cantidad de: 4 veces\n"
          ]
        }
      ]
    },
    {
      "cell_type": "markdown",
      "source": [
        "# **Conclusión**\n",
        "\n"
      ],
      "metadata": {
        "id": "rFZUO5pxL-WU"
      }
    },
    {
      "cell_type": "markdown",
      "source": [
        "Para la resolución de este ejercicio, decidimos utilizar 2 mecanismos de sincronización.  \n",
        "\n",
        "Para las variables que son compartidas entre los hilos, en las cuales ellos vuelcan los resultados de sus análisis (*cantCaracteres*, *cantEspacios*, *cantLineasEfect*, *cantPalabras*), utilizamos **std::atomic**, el cual hace atómica la operación que se realice sobre la variable a la que se aplique y consideramos que es el mecanismo más eficiente para este caso, ya que al tratarse de variables de tipo entero, utilizar otro tipo sincronización hubiese complejizado la implementación.  \n",
        "\n",
        "Para obtener la palabra con mayor ocurrencia utilizamos un Hashmap compartido entre todos los hilos, para sincronizarlo decidimos utilizar un semáforo **std::mutex** el cual nos facilita el método *lock()*, con el cual bloqueamos las operaciones necesarias para actualizar el hash.\n"
      ],
      "metadata": {
        "id": "4m_OZL4xW51v"
      }
    }
  ]
}