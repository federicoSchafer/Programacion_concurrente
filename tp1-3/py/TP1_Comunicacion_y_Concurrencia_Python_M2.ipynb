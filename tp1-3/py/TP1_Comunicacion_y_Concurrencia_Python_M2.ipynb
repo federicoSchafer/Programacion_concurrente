{
  "nbformat": 4,
  "nbformat_minor": 0,
  "metadata": {
    "colab": {
      "provenance": []
    },
    "kernelspec": {
      "name": "python3",
      "display_name": "Python 3"
    },
    "language_info": {
      "name": "python"
    }
  },
  "cells": [
    {
      "cell_type": "markdown",
      "source": [
        "# TP1 - Parte 3 - Comunicación y Concurrencia"
      ],
      "metadata": {
        "id": "U-51_NLBw9-1"
      }
    },
    {
      "cell_type": "markdown",
      "source": [
        "# **Python**\n",
        "Este ejercicio comunica tres procesos emparentados A, B y C (Padre e Hijos) a través de tuberías (Pipe)\n",
        "\n",
        "El programa A (Padre) lee desde un archivo los registros de ventas de sus dos sucursales y envia\n",
        "la información leída a los programas B y C (Hijos) a través de las tuberías. Los registros de la sucursal 1 son enviados por el PIPE 1 hacia B y los de la sucursal 2 por el PIPE 2 hacia C.\n",
        "\n",
        "El archivo sales.txt contiene los registros de ventas y el formato de cada registro es:   \n",
        "SUCURSAL (1-2), FECHA (DD-MM-AAAA), PRODUCTO (Nombre), MONTO.\n",
        "\n",
        "Cada proceso hijo procesa la información recibida y emite la siguiente salida:  \n",
        "• Número de sucursal  \n",
        "• Monto total  \n",
        "• Producto más vendido  \n",
        "• Fecha con mayor cantidad de ventas y la cantidad (Máximo tres en caso de empate).    \n",
        "• Fecha con mayor monto vendido y el monto (Máximo tres en caso de empate).  "
      ],
      "metadata": {
        "id": "Wl8lRKCjzUfm"
      }
    },
    {
      "cell_type": "code",
      "source": [
        "%%writefile sales.txt\n",
        "SUCURSAL1;12-03-2023;Pan;255.78\n",
        "SUCURSAL2;05-07-2022;Tarta;504.12\n",
        "SUCURSAL1;30-11-2021;Croissant;307.64\n",
        "SUCURSAL2;20-06-2024;Pastel;621.34\n",
        "SUCURSAL1;28-09-2022;Bollo;193.55\n",
        "SUCURSAL2;14-01-2023;Baguette;415.82\n",
        "SUCURSAL1;05-11-2024;Tarta;815.18\n",
        "SUCURSAL2;10-03-2023;Galleta;720.66\n",
        "SUCURSAL1;03-08-2021;Empanada;60.29\n",
        "SUCURSAL2;09-05-2024;Bollo;808.95\n",
        "SUCURSAL1;15-04-2023;Baguette;891.11\n",
        "SUCURSAL2;18-10-2022;Pan;178.44\n",
        "SUCURSAL1;25-07-2022;Pastel;819.62\n",
        "SUCURSAL2;22-06-2023;Croissant;879.03\n",
        "SUCURSAL1;11-01-2022;Pan;996.19\n",
        "SUCURSAL2;07-09-2024;Galleta;439.54\n",
        "SUCURSAL1;29-05-2021;Tarta;603.75\n",
        "SUCURSAL2;01-12-2021;Empanada;75.04\n",
        "SUCURSAL1;16-02-2023;Croissant;401.81\n",
        "SUCURSAL2;04-03-2024;Bollo;57.88\n",
        "SUCURSAL1;19-09-2023;Pastel;168.33\n",
        "SUCURSAL2;23-10-2023;Galleta;575.43\n",
        "SUCURSAL1;06-08-2022;Empanada;245.21\n",
        "SUCURSAL2;17-12-2023;Tarta;433.08\n",
        "SUCURSAL1;08-05-2024;Pan;796.49\n",
        "SUCURSAL2;19-04-2021;Baguette;457.21\n",
        "SUCURSAL1;27-07-2023;Bollo;24221.96\n",
        "SUCURSAL2;02-08-2021;Pan;349.11\n",
        "SUCURSAL1;10-09-2022;Galleta;258.16\n",
        "SUCURSAL2;28-02-2024;Baguette;343.69\n",
        "SUCURSAL1;13-10-2022;Pastel;828.31\n",
        "SUCURSAL2;26-12-2021;Tarta;715.05\n",
        "SUCURSAL1;24-05-2024;Pan;537.81\n",
        "SUCURSAL2;21-11-2023;Bollo;294.57\n",
        "SUCURSAL1;09-02-2022;Baguette;673.97\n",
        "SUCURSAL2;03-09-2024;Galleta;67.88\n",
        "SUCURSAL1;22-06-2023;Tarta;816.47\n",
        "SUCURSAL2;30-05-2022;Pastel;511.13\n",
        "SUCURSAL1;28-12-2023;Pan;803.31\n",
        "SUCURSAL2;12-10-2023;Empanada;464.89\n",
        "SUCURSAL1;17-08-2024;Baguette;59.44\n",
        "SUCURSAL2;20-01-2022;Galleta;262.26\n",
        "SUCURSAL1;05-07-2021;Bollo;355.35\n",
        "SUCURSAL2;23-02-2023;Pan;581.15\n",
        "SUCURSAL1;31-03-2022;Pastel;854.26\n",
        "SUCURSAL2;14-09-2021;Tarta;697.03"
      ],
      "metadata": {
        "colab": {
          "base_uri": "https://localhost:8080/"
        },
        "id": "iBJulhKUKlXG",
        "outputId": "65a75650-7180-4987-e92f-1fceca64113c"
      },
      "execution_count": null,
      "outputs": [
        {
          "output_type": "stream",
          "name": "stdout",
          "text": [
            "Writing sales.txt\n"
          ]
        }
      ]
    },
    {
      "cell_type": "code",
      "source": [
        "%%writefile pipes.py\n",
        "import os\n",
        "from multiprocessing import Pipe\n",
        "\n",
        "FILE_PATH = 'sales.txt'\n",
        "CHILD = 0\n",
        "\n",
        "def printSales(salesStats):\n",
        "    print(f\"Sucursal {salesStats['office']}:\")\n",
        "    print(f\"Número de sucursal: {salesStats['office']}\")\n",
        "    print(f\"Monto total: {salesStats['amount']}\")\n",
        "    print(f\"Producto más vendido: {salesStats['bestSellingProductPriceName']}\")\n",
        "    print(f\"Fecha con mayor cantidad de ventas: {salesStats['mostSelledDate']} - Cantidad: {salesStats['mostSelledDateCount']}\")\n",
        "    print(f\"Fecha con mayor monto vendido: {salesStats['highestProfitDate']} - Monto: {salesStats['highestProfitDateSalesMount']}\")\n",
        "\n",
        "def getSalesStats(recvAB):\n",
        "    amount = 0\n",
        "    bestSellingProductPrice = {\"price\": 0, \"name\": None}\n",
        "    dateSales = {}\n",
        "\n",
        "    msg = recvAB.recv()\n",
        "    while(msg is not None ):\n",
        "        office, date, name, price = msg\n",
        "        price = float(price)\n",
        "\n",
        "        amount += price\n",
        "        if(price > bestSellingProductPrice['price']): bestSellingProductPrice =  {\"price\": price, \"name\": name}\n",
        "        dateSales[date] = dateSales[date] + [price] if isinstance(dateSales.get(date) , list) else [price]\n",
        "        msg = recvAB.recv()\n",
        "\n",
        "    mostSelledDate = max(dateSales, key=lambda date: len(dateSales[date]))\n",
        "    highestProfitDate = max(dateSales, key=lambda date: sum(dateSales[date]))\n",
        "    mostSelledDateCount = len(dateSales[mostSelledDate])\n",
        "    bestSellingProductPriceName = bestSellingProductPrice['name']\n",
        "    highestProfitDateSalesMount = sum(dateSales[highestProfitDate])\n",
        "\n",
        "    return {\n",
        "        \"office\": office,\n",
        "        \"amount\": amount,\n",
        "        \"bestSellingProductPriceName\": bestSellingProductPriceName,\n",
        "        \"mostSelledDate\": mostSelledDate,\n",
        "        \"mostSelledDateCount\": mostSelledDateCount,\n",
        "        \"highestProfitDate\": highestProfitDate,\n",
        "        \"highestProfitDateSalesMount\": highestProfitDateSalesMount\n",
        "    }\n",
        "\n",
        "def main():\n",
        "    recvAB, sendAB = Pipe(False)\n",
        "    recvAC, sendAC = Pipe(False)\n",
        "    recvBC, sendBC = Pipe(False)\n",
        "\n",
        "    processB = os.fork()\n",
        "    if processB == CHILD:\n",
        "        sendAB.close()\n",
        "        sendBC.close()\n",
        "        salesStats = getSalesStats(recvAB)\n",
        "        recvBC.recv()\n",
        "        printSales(salesStats)\n",
        "        recvBC.close()\n",
        "        recvAB.close()\n",
        "        os._exit(0)\n",
        "\n",
        "    processC = os.fork()\n",
        "    if processC == CHILD:\n",
        "        sendAC.close()\n",
        "        recvBC.close()\n",
        "        salesStats = getSalesStats(recvAC)\n",
        "        printSales(salesStats)\n",
        "        sendBC.send(None)\n",
        "        recvAC.close()\n",
        "        sendBC.close()\n",
        "        os._exit(0)\n",
        "\n",
        "    recvAB.close()\n",
        "    recvAC.close()\n",
        "    with open(FILE_PATH, 'r') as file:\n",
        "        for line in file:\n",
        "            line = line.strip().split(';')\n",
        "            office, date, name, price = line\n",
        "            if office == 'SUCURSAL2':\n",
        "                sendAB.send(line)\n",
        "            if office == 'SUCURSAL1':\n",
        "                sendAC.send(line)\n",
        "    sendAB.send(None)\n",
        "    sendAC.send(None)\n",
        "    sendAB.close()\n",
        "    sendAC.close()\n",
        "\n",
        "    os.wait()\n",
        "    os.wait()\n",
        "    os._exit(0)\n",
        "\n",
        "if __name__ == '__main__':\n",
        "    main()"
      ],
      "metadata": {
        "colab": {
          "base_uri": "https://localhost:8080/"
        },
        "id": "ohoWeEp7Jt2U",
        "outputId": "0b66bfa4-00d1-4c31-9bf7-8769ab2b1821"
      },
      "execution_count": null,
      "outputs": [
        {
          "output_type": "stream",
          "name": "stdout",
          "text": [
            "Writing pipes.py\n"
          ]
        }
      ]
    },
    {
      "cell_type": "code",
      "source": [
        "!python pipes.py"
      ],
      "metadata": {
        "id": "0k-k-86nLOnt",
        "colab": {
          "base_uri": "https://localhost:8080/"
        },
        "outputId": "e124d95b-07a9-42e8-c66a-b2a0da67061f"
      },
      "execution_count": null,
      "outputs": [
        {
          "output_type": "stream",
          "name": "stdout",
          "text": [
            "Sucursal SUCURSAL1:\n",
            "Número de sucursal: SUCURSAL1\n",
            "Monto total: 35963.990000000005\n",
            "Producto más vendido: Bollo\n",
            "Fecha con mayor cantidad de ventas: 12-03-2023 - Cantidad: 1\n",
            "Fecha con mayor monto vendido: 27-07-2023 - Monto: 24221.96\n",
            "Sucursal SUCURSAL2:\n",
            "Número de sucursal: SUCURSAL2\n",
            "Monto total: 10453.3\n",
            "Producto más vendido: Croissant\n",
            "Fecha con mayor cantidad de ventas: 05-07-2022 - Cantidad: 1\n",
            "Fecha con mayor monto vendido: 22-06-2023 - Monto: 879.03\n"
          ]
        }
      ]
    },
    {
      "cell_type": "markdown",
      "source": [
        "# **Conclusión**\n",
        "\n"
      ],
      "metadata": {
        "id": "rFZUO5pxL-WU"
      }
    },
    {
      "cell_type": "markdown",
      "source": [
        " No nos topamos con ningun inconveniente en este ejercicio, las pipes son bastantes sencillas de implementar en Python con la biblioteca **multiprocessing.Pipe**, la cual nos provee de las funciones *send()*, *recv()* y *close()* que permiten un correcto funcionamiento."
      ],
      "metadata": {
        "id": "CALqpGbVXBAq"
      }
    }
  ]
}