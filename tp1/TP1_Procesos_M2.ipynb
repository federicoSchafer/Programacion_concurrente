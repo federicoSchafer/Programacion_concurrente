{
  "nbformat": 4,
  "nbformat_minor": 0,
  "metadata": {
    "colab": {
      "provenance": [],
      "collapsed_sections": [
        "O-jNV8PNf0XK"
      ]
    },
    "kernelspec": {
      "name": "python3",
      "display_name": "Python 3"
    },
    "language_info": {
      "name": "python"
    }
  },
  "cells": [
    {
      "cell_type": "markdown",
      "source": [
        "# TP1 - Parte 1 - Procesos"
      ],
      "metadata": {
        "id": "O-jNV8PNf0XK"
      }
    },
    {
      "cell_type": "markdown",
      "source": [
        "# **Python**\n",
        "\n",
        "Arbol de procesos en Python"
      ],
      "metadata": {
        "id": "L49n8MeYF7yU"
      }
    },
    {
      "cell_type": "code",
      "execution_count": null,
      "metadata": {
        "colab": {
          "base_uri": "https://localhost:8080/"
        },
        "id": "77B0w4e3e2Nz",
        "outputId": "56168046-5e31-41b8-9189-c441e7efc81f"
      },
      "outputs": [
        {
          "output_type": "stream",
          "name": "stdout",
          "text": [
            "Writing fork.py\n"
          ]
        }
      ],
      "source": [
        "%%writefile fork.py\n",
        "import os\n",
        "import sys\n",
        "import time\n",
        "\n",
        "def parameter_validation():\n",
        "    if len(sys.argv) == 2 and (sys.argv[1] == \"-help\" or sys.argv[1] == \"-h\" or sys.argv[1] == \"-?\"):\n",
        "        print(\"Para correr el script: python ./fork.py\\n\")\n",
        "        print(\"Para verificar el correcto funcionamiento y ver el arbol de procesos utilizar: pstree nombre-del-proceso\\n\")\n",
        "        sys.exit(1)\n",
        "    elif len(sys.argv) >= 2:\n",
        "        print(\"Error, cantidad de parametros inadecuados, para ayuda: python ./fork.py -h\\n\")\n",
        "        sys.exit(1)\n",
        "\n",
        "def show_process(pid, ppid, id_process):\n",
        "    print(\"Id:\", id_process, \"PID:\", pid, \"PPID:\", ppid)\n",
        "\n",
        "def main_process():\n",
        "    pidh1 = os.fork()\n",
        "    if pidh1 == 0:\n",
        "        pidn1 = os.fork()\n",
        "        if pidn1 == 0:\n",
        "            show_process(os.getpid(), os.getppid(), 'E')\n",
        "        else:\n",
        "            pidn2 = os.fork()\n",
        "            if pidn2 == 0:\n",
        "                pidb1 = os.fork()\n",
        "                if pidb1 == 0:\n",
        "                    show_process(os.getpid(), os.getppid(), 'H')\n",
        "                else:\n",
        "                    pidb2 = os.fork()\n",
        "                    if pidb2 == 0:\n",
        "                        pidt1 = os.fork()\n",
        "                        if pidt1 == 0:\n",
        "                            show_process(os.getpid(), os.getppid(), 'J')\n",
        "                        else:\n",
        "                            show_process(os.getpid(), os.getppid(), 'I')\n",
        "                    else:\n",
        "                        show_process(os.getpid(), os.getppid(), 'F')\n",
        "            else:\n",
        "                show_process(os.getpid(), os.getppid(), 'B')\n",
        "    else:\n",
        "        pidh2 = os.fork()\n",
        "        if pidh2 == 0:\n",
        "            show_process(os.getpid(), os.getppid(), 'C')\n",
        "        else:\n",
        "            pidh3 = os.fork()\n",
        "            if pidh3 == 0:\n",
        "                pidn3 = os.fork()\n",
        "                if pidn3 == 0:\n",
        "                    show_process(os.getpid(), os.getppid(), 'G')\n",
        "                else:\n",
        "                    show_process(os.getpid(), os.getppid(), 'D')\n",
        "            else:\n",
        "                show_process(os.getpid(), os.getppid(), 'A')\n",
        "    time.sleep(30)\n",
        "\n",
        "if __name__ == \"__main__\":\n",
        "    parameter_validation()\n",
        "    main_process()\n"
      ]
    },
    {
      "cell_type": "code",
      "source": [
        "!chmod 700 ./fork.py"
      ],
      "metadata": {
        "id": "8C6mJxPd3GvF"
      },
      "execution_count": null,
      "outputs": []
    },
    {
      "cell_type": "code",
      "source": [
        "!nohup python -u fork.py 1>salidaPython 2>/dev/null &"
      ],
      "metadata": {
        "id": "TDs2yk5H31wL"
      },
      "execution_count": null,
      "outputs": []
    },
    {
      "cell_type": "code",
      "source": [
        "!cat salidaPython"
      ],
      "metadata": {
        "colab": {
          "base_uri": "https://localhost:8080/"
        },
        "id": "sulZype-eT0K",
        "outputId": "74139ea6-576e-4925-d9b1-9cdad0aec40d"
      },
      "execution_count": null,
      "outputs": [
        {
          "output_type": "stream",
          "name": "stdout",
          "text": [
            "Id: A PID: 37453 PPID: 1\n",
            "Id: B PID: 37455 PPID: 37453\n",
            "Id: C PID: 37456 PPID: 37453\n",
            "Id: E PID: 37457 PPID: 37455\n",
            "Id: F PID: 37459 PPID: 37455\n",
            "Id: I PID: 37461 PPID: 37459\n",
            "Id: D PID: 37458 PPID: 37453\n",
            "Id: J PID: 37462 PPID: 37461\n",
            "Id: H PID: 37460 PPID: 37459\n",
            "Id: G PID: 37463 PPID: 37458\n"
          ]
        }
      ]
    },
    {
      "cell_type": "code",
      "source": [
        "!ps -ef | grep fork.py\n"
      ],
      "metadata": {
        "colab": {
          "base_uri": "https://localhost:8080/"
        },
        "id": "o-AH6WJGeo94",
        "outputId": "0994d1d6-7f56-4f11-94a6-cf553380b4bf"
      },
      "execution_count": null,
      "outputs": [
        {
          "output_type": "stream",
          "name": "stdout",
          "text": [
            "root       37453       1  0 02:48 ?        00:00:00 python3 -u fork.py\n",
            "root       37455   37453  0 02:48 ?        00:00:00 python3 -u fork.py\n",
            "root       37456   37453  0 02:48 ?        00:00:00 python3 -u fork.py\n",
            "root       37457   37455  0 02:48 ?        00:00:00 python3 -u fork.py\n",
            "root       37458   37453  0 02:48 ?        00:00:00 python3 -u fork.py\n",
            "root       37459   37455  0 02:48 ?        00:00:00 python3 -u fork.py\n",
            "root       37460   37459  0 02:48 ?        00:00:00 python3 -u fork.py\n",
            "root       37461   37459  0 02:48 ?        00:00:00 python3 -u fork.py\n",
            "root       37462   37461  0 02:48 ?        00:00:00 python3 -u fork.py\n",
            "root       37463   37458  0 02:48 ?        00:00:00 python3 -u fork.py\n",
            "root       37502     230  0 02:48 ?        00:00:00 /bin/bash -c ps -ef | grep fork.py\n",
            "root       37504   37502  0 02:48 ?        00:00:00 grep fork.py\n"
          ]
        }
      ]
    },
    {
      "cell_type": "code",
      "source": [
        "!pstree -pc $(pgrep -f fork.py -P 1)"
      ],
      "metadata": {
        "colab": {
          "base_uri": "https://localhost:8080/"
        },
        "id": "Uv_ReTVE38Kh",
        "outputId": "400abae4-d435-4c9c-9d9e-6e7da8d85216"
      },
      "execution_count": null,
      "outputs": [
        {
          "output_type": "stream",
          "name": "stdout",
          "text": [
            "python3─┬─python3─┬─python3\n",
            "        │         └─python3─┬─python3\n",
            "        │                   └─python3───python3\n",
            "        ├─python3\n",
            "        └─python3───python3\n"
          ]
        }
      ]
    },
    {
      "cell_type": "markdown",
      "source": [
        "# **C++**\n",
        "Arbol de procesos en C++"
      ],
      "metadata": {
        "id": "R2Pnn_u1Zcu7"
      }
    },
    {
      "cell_type": "code",
      "source": [
        "%%writefile fork.cpp\n",
        "#include <iostream>\n",
        "#include <map>\n",
        "#include <stack>\n",
        "#include <unistd.h>\n",
        "#include <sys/wait.h>\n",
        "\n",
        "struct TreeMap;\n",
        "using BranchMap = std::map<char, TreeMap>;\n",
        "struct TreeMap\n",
        "{\n",
        "    BranchMap branchMap;\n",
        "};\n",
        "\n",
        "void iterate(BranchMap parentBranchMap, pid_t parentPID, char parent)\n",
        "{\n",
        "    for (const auto &branchMapParentIterator : parentBranchMap)\n",
        "    {\n",
        "        pid_t pid = fork();\n",
        "        char me = branchMapParentIterator.first;\n",
        "        if (pid == 0)\n",
        "        {\n",
        "            iterate(branchMapParentIterator.second.branchMap, getpid(), me);\n",
        "\n",
        "        }\n",
        "        else\n",
        "        {\n",
        "            std::cout << \"Parent: \" << parent << \" Me: \" << me << \" ParentPID: \" << parentPID << \" mePID: \" << pid << std::endl;\n",
        "\n",
        "        }\n",
        "    }\n",
        "    sleep(30);\n",
        "    exit(0);\n",
        "}\n",
        "\n",
        "int main()\n",
        "{\n",
        "    TreeMap treeMap;\n",
        "    treeMap.branchMap['b'].branchMap['e'];\n",
        "    treeMap.branchMap['c'];\n",
        "    treeMap.branchMap['d'].branchMap['g'];\n",
        "    treeMap.branchMap['b'].branchMap['f'].branchMap['h'];\n",
        "    treeMap.branchMap['b'].branchMap['f'].branchMap['i'].branchMap['j'];\n",
        "\n",
        "    iterate(treeMap.branchMap, getpid(), 'a');\n",
        "    std::cin.get(); // Wait for the user to press Enter\n",
        "    return 0;\n",
        "}"
      ],
      "metadata": {
        "colab": {
          "base_uri": "https://localhost:8080/"
        },
        "id": "Hr0IFTA_AFHU",
        "outputId": "48ed6ccd-8934-4bb7-adf7-3b291d858f6c"
      },
      "execution_count": null,
      "outputs": [
        {
          "output_type": "stream",
          "name": "stdout",
          "text": [
            "Writing fork.cpp\n"
          ]
        }
      ]
    },
    {
      "cell_type": "code",
      "source": [
        "!g++ fork.cpp -o fork"
      ],
      "metadata": {
        "id": "xIIt4XNBiOvm"
      },
      "execution_count": null,
      "outputs": []
    },
    {
      "cell_type": "code",
      "source": [
        "!nohup ./fork 1>salidaCpp 2>/dev/null &"
      ],
      "metadata": {
        "id": "bcCqDZ0pBNmB"
      },
      "execution_count": null,
      "outputs": []
    },
    {
      "cell_type": "code",
      "source": [
        "!cat salidaCpp"
      ],
      "metadata": {
        "colab": {
          "base_uri": "https://localhost:8080/"
        },
        "id": "5ld9p99Lidf7",
        "outputId": "4ba969be-c2d2-4f86-df9f-9276148d610e"
      },
      "execution_count": null,
      "outputs": [
        {
          "output_type": "stream",
          "name": "stdout",
          "text": [
            "Parent: a Me: b ParentPID: 1014 mePID: 1015\n",
            "Parent: a Me: c ParentPID: 1014 mePID: 1016\n",
            "Parent: a Me: d ParentPID: 1014 mePID: 1017\n",
            "Parent: b Me: e ParentPID: 1015 mePID: 1018\n",
            "Parent: b Me: f ParentPID: 1015 mePID: 1019\n",
            "Parent: d Me: g ParentPID: 1017 mePID: 1020\n",
            "Parent: f Me: h ParentPID: 1019 mePID: 1021\n",
            "Parent: f Me: i ParentPID: 1019 mePID: 1022\n",
            "Parent: i Me: j ParentPID: 1022 mePID: 1023\n"
          ]
        }
      ]
    },
    {
      "cell_type": "code",
      "source": [
        "!ps -ef | grep fork"
      ],
      "metadata": {
        "id": "j-wmjxq_fTIl",
        "colab": {
          "base_uri": "https://localhost:8080/"
        },
        "outputId": "a21ad463-7eff-4962-deb1-f2d418c7450f"
      },
      "execution_count": null,
      "outputs": [
        {
          "output_type": "stream",
          "name": "stdout",
          "text": [
            "root        1014       1  0 10:44 ?        00:00:00 ./fork\n",
            "root        1015    1014  0 10:44 ?        00:00:00 ./fork\n",
            "root        1016    1014  0 10:44 ?        00:00:00 ./fork\n",
            "root        1017    1014  0 10:44 ?        00:00:00 ./fork\n",
            "root        1018    1015  0 10:44 ?        00:00:00 ./fork\n",
            "root        1019    1015  0 10:44 ?        00:00:00 ./fork\n",
            "root        1020    1017  0 10:44 ?        00:00:00 ./fork\n",
            "root        1021    1019  0 10:44 ?        00:00:00 ./fork\n",
            "root        1022    1019  0 10:44 ?        00:00:00 ./fork\n",
            "root        1023    1022  0 10:44 ?        00:00:00 ./fork\n",
            "root        1049     182  0 10:45 ?        00:00:00 /bin/bash -c ps -ef | grep fork\n",
            "root        1051    1049  0 10:45 ?        00:00:00 grep fork\n"
          ]
        }
      ]
    },
    {
      "cell_type": "code",
      "source": [
        "!pstree -pc $(pgrep -f fork -P 1)"
      ],
      "metadata": {
        "colab": {
          "base_uri": "https://localhost:8080/"
        },
        "id": "_0LhAVhcBdpa",
        "outputId": "080a1317-d0dd-48d9-f786-f6ce15339f07"
      },
      "execution_count": null,
      "outputs": [
        {
          "output_type": "stream",
          "name": "stdout",
          "text": [
            "fork(1014)─┬─fork(1015)─┬─fork(1018)\n",
            "           │            └─fork(1019)─┬─fork(1021)\n",
            "           │                         └─fork(1022)───fork(1023)\n",
            "           ├─fork(1016)\n",
            "           └─fork(1017)───fork(1020)\n"
          ]
        }
      ]
    },
    {
      "cell_type": "markdown",
      "source": [
        "# **Java**\n",
        "Arbol de procesos en Java"
      ],
      "metadata": {
        "id": "iBi2IVjAbsu7"
      }
    },
    {
      "cell_type": "code",
      "source": [
        "%%writefile ParentProcess.java\n",
        "import java.io.IOException;\n",
        "\n",
        "public class ParentProcess\n",
        "{\n",
        "    /*Constantes*/\n",
        "    private static final String JAVA_FILE_LOCATION=\"ChildProcess.java\";\n",
        "    private static final int numberOfChilds = 3;\n",
        "    /*Recursos necesarios*/\n",
        "    static Process childs[];\n",
        "    static String[] letter = {\"B\",\"C\",\"D\"};\n",
        "\n",
        "\n",
        "    public static void createChilds(int numberOfChilds) throws IOException\n",
        "    {\n",
        "        ProcessBuilder builder;\n",
        "        childs = new Process[numberOfChilds];\n",
        "        for(int i=0;i<numberOfChilds;i++)\n",
        "        {\n",
        "            builder = new ProcessBuilder(\"java\",JAVA_FILE_LOCATION,letter[i]); //Acá ya le paso la letra del hijo\n",
        "            builder.inheritIO();\n",
        "            childs[i] = builder.start();\n",
        "        }\n",
        "    }\n",
        "\n",
        "    public static void waitChilds(int numberOfChilds) throws InterruptedException\n",
        "    {\n",
        "        for(int i=0; i<numberOfChilds; i++)\n",
        "        {\n",
        "            childs[i].waitFor();\n",
        "        }\n",
        "    }\n",
        "\n",
        "    public static void main(String[] args) throws IOException,InterruptedException\n",
        "    {\n",
        "        ProcessHandle yo = ProcessHandle.current();\n",
        "        long pid = yo.pid();\n",
        "        System.out.println(\"A PID: \"+pid); //En este caso, siempre va a ser A, por ser el proceso Padre de todo\n",
        "        createChilds(numberOfChilds);\n",
        "        waitChilds(numberOfChilds);\n",
        "    }\n",
        "}"
      ],
      "metadata": {
        "colab": {
          "base_uri": "https://localhost:8080/"
        },
        "id": "pw5-xGBmhuIQ",
        "outputId": "359e3c8b-9540-4c98-d456-031337e94d31"
      },
      "execution_count": 1,
      "outputs": [
        {
          "output_type": "stream",
          "name": "stdout",
          "text": [
            "Writing ParentProcess.java\n"
          ]
        }
      ]
    },
    {
      "cell_type": "code",
      "source": [
        "%%writefile ChildProcess.java\n",
        "import java.io.IOException;\n",
        "import java.util.ArrayList;\n",
        "\n",
        "public class ChildProcess\n",
        "\n",
        "{\n",
        "    /* Constantes*/\n",
        "    static final String processB = \"B\";\n",
        "    static final String processD = \"D\";\n",
        "    static final String processE = \"E\";\n",
        "    static final String processF = \"F\";\n",
        "    static final String processG = \"G\";\n",
        "    static final String processH = \"H\";\n",
        "    static final String processI = \"I\";\n",
        "    static final String processJ = \"J\";\n",
        "    static final int time = 50000;\n",
        "    /*Ruta del siguiente nivel*/\n",
        "    private static final String JAVA_FILE_LOCATION=\"ChildProcess.java\";\n",
        "    /*Recursos necesarios*/\n",
        "    static ArrayList<Process> childs = new ArrayList<Process>();\n",
        "\n",
        "    public static void showInfo(String letter)\n",
        "    {\n",
        "        ProcessHandle yo = ProcessHandle.current();\n",
        "        long pid = yo.pid();\n",
        "        long ppid = yo.parent().get().pid();\n",
        "        System.out.println(letter+\" PID: \"+pid+\" PPID: \"+ ppid);\n",
        "    }\n",
        "\n",
        "    public static void createChild(String child) throws IOException\n",
        "    {\n",
        "        ProcessBuilder builder = new ProcessBuilder(\"java\", JAVA_FILE_LOCATION, child);\n",
        "        builder.inheritIO();\n",
        "        childs.add(builder.start());\n",
        "    }\n",
        "\n",
        "    public static void waitChilds() throws InterruptedException\n",
        "    {\n",
        "        for (Process c : childs)\n",
        "        {\n",
        "\t\t\tc.waitFor();\n",
        "\t\t}\n",
        "    }\n",
        "\n",
        "    public static void main (String[] args) throws IOException,InterruptedException\n",
        "    {\n",
        "        showInfo(args[0]);\n",
        "\n",
        "        switch (args[0])\n",
        "        {\n",
        "            case processB:\n",
        "                createChild(processE);\n",
        "                createChild(processF);\n",
        "                break;\n",
        "            case processD:\n",
        "            \tcreateChild(processG);\n",
        "            \tbreak;\n",
        "            case processF:\n",
        "            \tcreateChild(processH);\n",
        "            \tcreateChild(processI);\n",
        "            \tbreak;\n",
        "            case processI:\n",
        "            \tcreateChild(processJ);\n",
        "            \tbreak;\n",
        "            default:\n",
        "            \tThread.sleep(time);\n",
        "                break;\n",
        "        }\n",
        "        waitChilds();\n",
        "    }\n",
        "}\n",
        "\n"
      ],
      "metadata": {
        "colab": {
          "base_uri": "https://localhost:8080/"
        },
        "id": "-LkZtVsoh6Ow",
        "outputId": "c3bf8014-a57e-4119-aa6c-a105c513ceec"
      },
      "execution_count": 2,
      "outputs": [
        {
          "output_type": "stream",
          "name": "stdout",
          "text": [
            "Writing ChildProcess.java\n"
          ]
        }
      ]
    },
    {
      "cell_type": "code",
      "source": [
        "!nohup java ParentProcess.java 1>salidaJava 2>/dev/null &"
      ],
      "metadata": {
        "id": "_iGE3rCQeSQK"
      },
      "execution_count": 3,
      "outputs": []
    },
    {
      "cell_type": "code",
      "source": [
        "!cat salidaJava"
      ],
      "metadata": {
        "colab": {
          "base_uri": "https://localhost:8080/"
        },
        "id": "bDNrZIr2pWOC",
        "outputId": "e7d03bcd-8c99-4b02-ed93-3ee4016c2103"
      },
      "execution_count": 7,
      "outputs": [
        {
          "output_type": "stream",
          "name": "stdout",
          "text": [
            "A PID: 411\n",
            "C PID: 440 PPID: 411\n",
            "B PID: 438 PPID: 411\n",
            "D PID: 445 PPID: 411\n",
            "E PID: 514 PPID: 438\n",
            "F PID: 516 PPID: 438\n",
            "G PID: 548 PPID: 445\n",
            "I PID: 594 PPID: 516\n",
            "H PID: 591 PPID: 516\n",
            "J PID: 644 PPID: 594\n"
          ]
        }
      ]
    },
    {
      "cell_type": "code",
      "source": [
        "!ps -ef | grep java"
      ],
      "metadata": {
        "colab": {
          "base_uri": "https://localhost:8080/"
        },
        "id": "JotjIEEUFRfI",
        "outputId": "75d4c579-c784-42a4-8e50-104aa3dad230"
      },
      "execution_count": 8,
      "outputs": [
        {
          "output_type": "stream",
          "name": "stdout",
          "text": [
            "root         411       1 12 17:25 ?        00:00:02 java ParentProcess.java\n",
            "root         438     411 11 17:25 ?        00:00:02 java ChildProcess.java B\n",
            "root         440     411 10 17:25 ?        00:00:02 java ChildProcess.java C\n",
            "root         445     411 11 17:25 ?        00:00:02 java ChildProcess.java D\n",
            "root         514     438 14 17:25 ?        00:00:02 java ChildProcess.java E\n",
            "root         516     438 13 17:25 ?        00:00:02 java ChildProcess.java F\n",
            "root         548     445 14 17:25 ?        00:00:02 java ChildProcess.java G\n",
            "root         591     516 18 17:25 ?        00:00:02 java ChildProcess.java H\n",
            "root         594     516 19 17:25 ?        00:00:02 java ChildProcess.java I\n",
            "root         644     594 24 17:25 ?        00:00:01 java ChildProcess.java J\n",
            "root         694     268  0 17:25 ?        00:00:00 /bin/bash -c ps -ef | grep java\n",
            "root         696     694  0 17:25 ?        00:00:00 grep java\n"
          ]
        }
      ]
    },
    {
      "cell_type": "code",
      "source": [
        "!pstree -pT $(pgrep -f ParentProcess.java -P 1)"
      ],
      "metadata": {
        "colab": {
          "base_uri": "https://localhost:8080/"
        },
        "id": "VHh3qxEQehA7",
        "outputId": "100b368a-0650-444d-cf5d-eb4aaac4e7ab"
      },
      "execution_count": 9,
      "outputs": [
        {
          "output_type": "stream",
          "name": "stdout",
          "text": [
            "java(411)─┬─java(438)─┬─java(514)\n",
            "          │           └─java(516)─┬─java(591)\n",
            "          │                       └─java(594)───java(644)\n",
            "          ├─java(440)\n",
            "          └─java(445)───java(548)\n"
          ]
        }
      ]
    }
  ]
}